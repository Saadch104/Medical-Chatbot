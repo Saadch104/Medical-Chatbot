{
 "cells": [
  {
   "cell_type": "code",
   "execution_count": 1,
   "id": "32f6109d",
   "metadata": {},
   "outputs": [],
   "source": [
    "from langchain_community.document_loaders import DirectoryLoader, PyPDFLoader\n",
    "from langchain.text_splitter import RecursiveCharacterTextSplitter\n",
    "#from langchain_cohere.embeddings import CohereEmbeddings"
   ]
  },
  {
   "cell_type": "code",
   "execution_count": 2,
   "id": "65300edf",
   "metadata": {},
   "outputs": [],
   "source": [
    "# ========== STEP 2: Load and split PDF ==========\n",
    "def load_pdf(data):\n",
    "    loader = DirectoryLoader(data,\n",
    "                    glob=\"*.pdf\",\n",
    "                    loader_cls=PyPDFLoader)\n",
    "    \n",
    "    documents = loader.load()\n",
    "\n",
    "    return documents\n"
   ]
  },
  {
   "cell_type": "code",
   "execution_count": 3,
   "id": "1b3cf8cc",
   "metadata": {},
   "outputs": [
    {
     "data": {
      "text/plain": [
       "'d:\\\\GITHUB\\\\Medical-Chatbot\\\\research'"
      ]
     },
     "execution_count": 3,
     "metadata": {},
     "output_type": "execute_result"
    }
   ],
   "source": [
    "%pwd"
   ]
  },
  {
   "cell_type": "code",
   "execution_count": 4,
   "id": "990b2c01",
   "metadata": {},
   "outputs": [],
   "source": [
    "import os\n",
    "os.chdir(\"../\")"
   ]
  },
  {
   "cell_type": "code",
   "execution_count": 5,
   "id": "850567b8",
   "metadata": {},
   "outputs": [
    {
     "data": {
      "text/plain": [
       "'d:\\\\GITHUB\\\\Medical-Chatbot'"
      ]
     },
     "execution_count": 5,
     "metadata": {},
     "output_type": "execute_result"
    }
   ],
   "source": [
    "%pwd"
   ]
  },
  {
   "cell_type": "code",
   "execution_count": 6,
   "id": "0463a008",
   "metadata": {},
   "outputs": [],
   "source": [
    "#pip install pypdf"
   ]
  },
  {
   "cell_type": "code",
   "execution_count": 6,
   "id": "d63221c3",
   "metadata": {},
   "outputs": [],
   "source": [
    "extracted_data = load_pdf(data=\"Data/\")  # Use the correct data folder variable"
   ]
  },
  {
   "cell_type": "code",
   "execution_count": 1,
   "id": "73fcb52a",
   "metadata": {},
   "outputs": [],
   "source": [
    "#extracted_data"
   ]
  },
  {
   "cell_type": "code",
   "execution_count": 8,
   "id": "8d2b01a9",
   "metadata": {},
   "outputs": [],
   "source": [
    "# Step 2: Create text chunks\n",
    "def text_split(extracted_data):\n",
    "    text_splitter = RecursiveCharacterTextSplitter(chunk_size=500, chunk_overlap=20)\n",
    "    text_chunks = text_splitter.split_documents(extracted_data)\n",
    "    return text_chunks"
   ]
  },
  {
   "cell_type": "code",
   "execution_count": 9,
   "id": "e3e03293",
   "metadata": {},
   "outputs": [
    {
     "name": "stdout",
     "output_type": "stream",
     "text": [
      "length of my chunk: 5859\n"
     ]
    }
   ],
   "source": [
    "text_chunks = text_split(extracted_data)\n",
    "print(\"length of my chunk:\", len(text_chunks))"
   ]
  },
  {
   "cell_type": "code",
   "execution_count": null,
   "id": "60803ab3",
   "metadata": {},
   "outputs": [],
   "source": []
  },
  {
   "cell_type": "code",
   "execution_count": 2,
   "id": "af4fb9b3",
   "metadata": {},
   "outputs": [],
   "source": [
    "#text_chunks"
   ]
  },
  {
   "cell_type": "code",
   "execution_count": 11,
   "id": "31984646",
   "metadata": {},
   "outputs": [],
   "source": [
    "from langchain.embeddings import HuggingFaceEmbeddings"
   ]
  },
  {
   "cell_type": "code",
   "execution_count": 12,
   "id": "ffc2824f",
   "metadata": {},
   "outputs": [],
   "source": [
    "# Step 3: Download embedding model\n",
    "def download_hugging_face_embeddings():\n",
    "    embeddings = HuggingFaceEmbeddings(model_name=\"sentence-transformers/all-MiniLM-L6-v2\")\n",
    "    return embeddings\n"
   ]
  },
  {
   "cell_type": "code",
   "execution_count": null,
   "id": "4fe04aa0",
   "metadata": {},
   "outputs": [],
   "source": [
    "#from langchain_community.embeddings import HuggingFaceEmbeddings"
   ]
  },
  {
   "cell_type": "code",
   "execution_count": 14,
   "id": "5e1f1811",
   "metadata": {},
   "outputs": [
    {
     "name": "stdout",
     "output_type": "stream",
     "text": [
      "Requirement already satisfied: sentence-transformers in c:\\users\\saad\\miniconda3\\envs\\medibot\\lib\\site-packages (2.2.2)\n",
      "Requirement already satisfied: transformers<5.0.0,>=4.6.0 in c:\\users\\saad\\miniconda3\\envs\\medibot\\lib\\site-packages (from sentence-transformers) (4.53.2)\n",
      "Requirement already satisfied: tqdm in c:\\users\\saad\\miniconda3\\envs\\medibot\\lib\\site-packages (from sentence-transformers) (4.67.1)\n",
      "Requirement already satisfied: torch>=1.6.0 in c:\\users\\saad\\miniconda3\\envs\\medibot\\lib\\site-packages (from sentence-transformers) (2.7.1)\n",
      "Requirement already satisfied: torchvision in c:\\users\\saad\\miniconda3\\envs\\medibot\\lib\\site-packages (from sentence-transformers) (0.22.1)\n",
      "Requirement already satisfied: numpy in c:\\users\\saad\\miniconda3\\envs\\medibot\\lib\\site-packages (from sentence-transformers) (2.2.6)\n",
      "Requirement already satisfied: scikit-learn in c:\\users\\saad\\miniconda3\\envs\\medibot\\lib\\site-packages (from sentence-transformers) (1.7.0)\n",
      "Requirement already satisfied: scipy in c:\\users\\saad\\miniconda3\\envs\\medibot\\lib\\site-packages (from sentence-transformers) (1.15.3)\n",
      "Requirement already satisfied: nltk in c:\\users\\saad\\miniconda3\\envs\\medibot\\lib\\site-packages (from sentence-transformers) (3.9.1)\n",
      "Requirement already satisfied: sentencepiece in c:\\users\\saad\\miniconda3\\envs\\medibot\\lib\\site-packages (from sentence-transformers) (0.2.0)\n",
      "Requirement already satisfied: huggingface-hub>=0.4.0 in c:\\users\\saad\\miniconda3\\envs\\medibot\\lib\\site-packages (from sentence-transformers) (0.33.4)\n",
      "Requirement already satisfied: filelock in c:\\users\\saad\\miniconda3\\envs\\medibot\\lib\\site-packages (from transformers<5.0.0,>=4.6.0->sentence-transformers) (3.18.0)\n",
      "Requirement already satisfied: packaging>=20.0 in c:\\users\\saad\\miniconda3\\envs\\medibot\\lib\\site-packages (from transformers<5.0.0,>=4.6.0->sentence-transformers) (24.2)\n",
      "Requirement already satisfied: pyyaml>=5.1 in c:\\users\\saad\\miniconda3\\envs\\medibot\\lib\\site-packages (from transformers<5.0.0,>=4.6.0->sentence-transformers) (6.0.2)\n",
      "Requirement already satisfied: regex!=2019.12.17 in c:\\users\\saad\\miniconda3\\envs\\medibot\\lib\\site-packages (from transformers<5.0.0,>=4.6.0->sentence-transformers) (2024.11.6)\n",
      "Requirement already satisfied: requests in c:\\users\\saad\\miniconda3\\envs\\medibot\\lib\\site-packages (from transformers<5.0.0,>=4.6.0->sentence-transformers) (2.32.4)\n",
      "Requirement already satisfied: tokenizers<0.22,>=0.21 in c:\\users\\saad\\miniconda3\\envs\\medibot\\lib\\site-packages (from transformers<5.0.0,>=4.6.0->sentence-transformers) (0.21.2)\n",
      "Requirement already satisfied: safetensors>=0.4.3 in c:\\users\\saad\\miniconda3\\envs\\medibot\\lib\\site-packages (from transformers<5.0.0,>=4.6.0->sentence-transformers) (0.5.3)\n",
      "Requirement already satisfied: fsspec>=2023.5.0 in c:\\users\\saad\\miniconda3\\envs\\medibot\\lib\\site-packages (from huggingface-hub>=0.4.0->sentence-transformers) (2025.5.1)\n",
      "Requirement already satisfied: typing-extensions>=3.7.4.3 in c:\\users\\saad\\miniconda3\\envs\\medibot\\lib\\site-packages (from huggingface-hub>=0.4.0->sentence-transformers) (4.14.1)\n",
      "Requirement already satisfied: sympy>=1.13.3 in c:\\users\\saad\\miniconda3\\envs\\medibot\\lib\\site-packages (from torch>=1.6.0->sentence-transformers) (1.14.0)\n",
      "Requirement already satisfied: networkx in c:\\users\\saad\\miniconda3\\envs\\medibot\\lib\\site-packages (from torch>=1.6.0->sentence-transformers) (3.4.2)\n",
      "Requirement already satisfied: jinja2 in c:\\users\\saad\\miniconda3\\envs\\medibot\\lib\\site-packages (from torch>=1.6.0->sentence-transformers) (3.1.6)\n",
      "Requirement already satisfied: mpmath<1.4,>=1.1.0 in c:\\users\\saad\\miniconda3\\envs\\medibot\\lib\\site-packages (from sympy>=1.13.3->torch>=1.6.0->sentence-transformers) (1.3.0)\n",
      "Requirement already satisfied: colorama in c:\\users\\saad\\miniconda3\\envs\\medibot\\lib\\site-packages (from tqdm->sentence-transformers) (0.4.6)\n",
      "Requirement already satisfied: MarkupSafe>=2.0 in c:\\users\\saad\\miniconda3\\envs\\medibot\\lib\\site-packages (from jinja2->torch>=1.6.0->sentence-transformers) (3.0.2)\n",
      "Requirement already satisfied: click in c:\\users\\saad\\miniconda3\\envs\\medibot\\lib\\site-packages (from nltk->sentence-transformers) (8.2.1)\n",
      "Requirement already satisfied: joblib in c:\\users\\saad\\miniconda3\\envs\\medibot\\lib\\site-packages (from nltk->sentence-transformers) (1.5.1)\n",
      "Requirement already satisfied: charset_normalizer<4,>=2 in c:\\users\\saad\\miniconda3\\envs\\medibot\\lib\\site-packages (from requests->transformers<5.0.0,>=4.6.0->sentence-transformers) (3.4.2)\n",
      "Requirement already satisfied: idna<4,>=2.5 in c:\\users\\saad\\miniconda3\\envs\\medibot\\lib\\site-packages (from requests->transformers<5.0.0,>=4.6.0->sentence-transformers) (3.10)\n",
      "Requirement already satisfied: urllib3<3,>=1.21.1 in c:\\users\\saad\\miniconda3\\envs\\medibot\\lib\\site-packages (from requests->transformers<5.0.0,>=4.6.0->sentence-transformers) (2.5.0)\n",
      "Requirement already satisfied: certifi>=2017.4.17 in c:\\users\\saad\\miniconda3\\envs\\medibot\\lib\\site-packages (from requests->transformers<5.0.0,>=4.6.0->sentence-transformers) (2025.7.9)\n",
      "Requirement already satisfied: threadpoolctl>=3.1.0 in c:\\users\\saad\\miniconda3\\envs\\medibot\\lib\\site-packages (from scikit-learn->sentence-transformers) (3.6.0)\n",
      "Requirement already satisfied: pillow!=8.3.*,>=5.3.0 in c:\\users\\saad\\miniconda3\\envs\\medibot\\lib\\site-packages (from torchvision->sentence-transformers) (11.3.0)\n",
      "Note: you may need to restart the kernel to use updated packages.\n"
     ]
    }
   ],
   "source": [
    "pip install sentence-transformers"
   ]
  },
  {
   "cell_type": "code",
   "execution_count": 17,
   "id": "1ec0cef4",
   "metadata": {},
   "outputs": [],
   "source": [
    "embeddings = download_hugging_face_embeddings()"
   ]
  },
  {
   "cell_type": "code",
   "execution_count": 18,
   "id": "a9cf44eb",
   "metadata": {},
   "outputs": [
    {
     "name": "stdout",
     "output_type": "stream",
     "text": [
      "Length 384\n"
     ]
    }
   ],
   "source": [
    "query_result = embeddings.embed_query(\"Hello world\")\n",
    "print(\"Length\", len(query_result))"
   ]
  },
  {
   "cell_type": "code",
   "execution_count": 19,
   "id": "d632f7f6",
   "metadata": {},
   "outputs": [
    {
     "data": {
      "text/plain": [
       "[-0.03447727486491203,\n",
       " 0.03102317824959755,\n",
       " 0.006734970025718212,\n",
       " 0.026108985766768456,\n",
       " -0.03936202451586723,\n",
       " -0.16030244529247284,\n",
       " 0.06692401319742203,\n",
       " -0.006441489793360233,\n",
       " -0.0474504791200161,\n",
       " 0.014758856035768986,\n",
       " 0.07087527960538864,\n",
       " 0.05552763119339943,\n",
       " 0.019193334504961967,\n",
       " -0.026251312345266342,\n",
       " -0.01010954286903143,\n",
       " -0.02694045566022396,\n",
       " 0.022307461127638817,\n",
       " -0.022226648405194283,\n",
       " -0.14969263970851898,\n",
       " -0.017493007704615593,\n",
       " 0.00767625542357564,\n",
       " 0.05435224249958992,\n",
       " 0.0032543970737606287,\n",
       " 0.031725890934467316,\n",
       " -0.0846213847398758,\n",
       " -0.02940601296722889,\n",
       " 0.05159561336040497,\n",
       " 0.04812406003475189,\n",
       " -0.0033148222137242556,\n",
       " -0.058279167860746384,\n",
       " 0.04196927323937416,\n",
       " 0.022210685536265373,\n",
       " 0.1281888335943222,\n",
       " -0.022338971495628357,\n",
       " -0.011656315997242928,\n",
       " 0.06292839348316193,\n",
       " -0.032876335084438324,\n",
       " -0.09122604131698608,\n",
       " -0.031175347045063972,\n",
       " 0.0526994913816452,\n",
       " 0.04703482985496521,\n",
       " -0.08420311659574509,\n",
       " -0.030056199058890343,\n",
       " -0.02074483036994934,\n",
       " 0.009517835453152657,\n",
       " -0.0037217906210571527,\n",
       " 0.007343285251408815,\n",
       " 0.03932438790798187,\n",
       " 0.0932740643620491,\n",
       " -0.003788596484810114,\n",
       " -0.052742067724466324,\n",
       " -0.05805816128849983,\n",
       " -0.006864361464977264,\n",
       " 0.005283191800117493,\n",
       " 0.0828929990530014,\n",
       " 0.019362755119800568,\n",
       " 0.0062844837084412575,\n",
       " -0.010330787859857082,\n",
       " 0.009032378904521465,\n",
       " -0.037683695554733276,\n",
       " -0.04520607739686966,\n",
       " 0.024016305804252625,\n",
       " -0.006944137159734964,\n",
       " 0.013491630554199219,\n",
       " 0.10005494207143784,\n",
       " -0.07168391346931458,\n",
       " -0.021695120260119438,\n",
       " 0.031618405133485794,\n",
       " -0.051634665578603745,\n",
       " -0.08224772661924362,\n",
       " -0.06569333374500275,\n",
       " -0.00989533495157957,\n",
       " 0.005816374905407429,\n",
       " 0.07355456054210663,\n",
       " -0.034050311893224716,\n",
       " 0.0248861201107502,\n",
       " 0.014488042332231998,\n",
       " 0.02645738422870636,\n",
       " 0.009656722657382488,\n",
       " 0.0302172489464283,\n",
       " 0.05280393362045288,\n",
       " -0.07535984367132187,\n",
       " 0.009897145442664623,\n",
       " 0.029836809262633324,\n",
       " 0.01755557768046856,\n",
       " 0.023091984912753105,\n",
       " 0.001933806692250073,\n",
       " 0.0014002545503899455,\n",
       " -0.04717595875263214,\n",
       " -0.011194315738976002,\n",
       " -0.11420144140720367,\n",
       " -0.019811924546957016,\n",
       " 0.040266189724206924,\n",
       " 0.0021929906215518713,\n",
       " -0.07979220896959305,\n",
       " -0.02538231760263443,\n",
       " 0.09448299556970596,\n",
       " -0.02898104302585125,\n",
       " -0.14500252902507782,\n",
       " 0.23097744584083557,\n",
       " 0.027731187641620636,\n",
       " 0.03211146965622902,\n",
       " 0.03106505796313286,\n",
       " 0.04283284768462181,\n",
       " 0.06423777341842651,\n",
       " 0.03216316178441048,\n",
       " -0.004876770544797182,\n",
       " 0.055699463933706284,\n",
       " -0.03753238171339035,\n",
       " -0.02150554023683071,\n",
       " -0.028342634439468384,\n",
       " -0.028846951201558113,\n",
       " 0.0383530892431736,\n",
       " -0.017468664795160294,\n",
       " 0.052485305815935135,\n",
       " -0.07487601786851883,\n",
       " -0.03125976398587227,\n",
       " 0.021841565147042274,\n",
       " -0.03989570587873459,\n",
       " -0.008587091229856014,\n",
       " 0.026956576853990555,\n",
       " -0.04849553853273392,\n",
       " 0.011469882912933826,\n",
       " 0.02961820363998413,\n",
       " -0.02057218924164772,\n",
       " 0.013103843666613102,\n",
       " 0.028833510354161263,\n",
       " -3.1941990848222185e-33,\n",
       " 0.06478213518857956,\n",
       " -0.018130183219909668,\n",
       " 0.051789961755275726,\n",
       " 0.12198275327682495,\n",
       " 0.028780106455087662,\n",
       " 0.008721951395273209,\n",
       " -0.07052119821310043,\n",
       " -0.016907278448343277,\n",
       " 0.04073973000049591,\n",
       " 0.042116157710552216,\n",
       " 0.025447236374020576,\n",
       " 0.03574628755450249,\n",
       " -0.04914471507072449,\n",
       " 0.0021290204022079706,\n",
       " -0.015546582639217377,\n",
       " 0.050730545073747635,\n",
       " -0.0481853261590004,\n",
       " 0.03588061034679413,\n",
       " -0.0040670474991202354,\n",
       " 0.10172472149133682,\n",
       " -0.05597002059221268,\n",
       " -0.010681048966944218,\n",
       " 0.01123578567057848,\n",
       " 0.09068653732538223,\n",
       " 0.004234451334923506,\n",
       " 0.035138655453920364,\n",
       " -0.009702847339212894,\n",
       " -0.09386517852544785,\n",
       " 0.0928555428981781,\n",
       " 0.008004927076399326,\n",
       " -0.007705425377935171,\n",
       " -0.05208674445748329,\n",
       " -0.012587991543114185,\n",
       " 0.0032669377978891134,\n",
       " 0.006013509817421436,\n",
       " 0.007581559009850025,\n",
       " 0.01051718182861805,\n",
       " -0.08634556829929352,\n",
       " -0.06987880170345306,\n",
       " -0.0025338928680866957,\n",
       " -0.09097658842802048,\n",
       " 0.04688733071088791,\n",
       " 0.052076540887355804,\n",
       " 0.007193844299763441,\n",
       " 0.010903622955083847,\n",
       " -0.0052295587956905365,\n",
       " 0.013937311246991158,\n",
       " 0.021968349814414978,\n",
       " 0.03420866280794144,\n",
       " 0.060224682092666626,\n",
       " 0.00011665470083244145,\n",
       " 0.014731976203620434,\n",
       " -0.07008926570415497,\n",
       " 0.028499048203229904,\n",
       " -0.02760172076523304,\n",
       " 0.010768445208668709,\n",
       " 0.034830961376428604,\n",
       " -0.02248787134885788,\n",
       " 0.009769017808139324,\n",
       " 0.07722785323858261,\n",
       " 0.021588314324617386,\n",
       " 0.11495620757341385,\n",
       " -0.0680011734366417,\n",
       " 0.02376098558306694,\n",
       " -0.0159839428961277,\n",
       " -0.0178269911557436,\n",
       " 0.06439495831727982,\n",
       " 0.032025739550590515,\n",
       " 0.05027025192975998,\n",
       " -0.005913770757615566,\n",
       " -0.03370805084705353,\n",
       " 0.017840256914496422,\n",
       " 0.016573317348957062,\n",
       " 0.06329657882452011,\n",
       " 0.03467721864581108,\n",
       " 0.046473488211631775,\n",
       " 0.09790610522031784,\n",
       " -0.00663550291210413,\n",
       " 0.02520712837576866,\n",
       " -0.07798824459314346,\n",
       " 0.0169264767318964,\n",
       " -0.000945797364693135,\n",
       " 0.022471921518445015,\n",
       " -0.038253191858530045,\n",
       " 0.09570474177598953,\n",
       " -0.005350803025066853,\n",
       " 0.010469110682606697,\n",
       " -0.11524055153131485,\n",
       " -0.013262521475553513,\n",
       " -0.010709455236792564,\n",
       " -0.08311725407838821,\n",
       " 0.07327353954315186,\n",
       " 0.04939225688576698,\n",
       " -0.008994322270154953,\n",
       " -0.09584552049636841,\n",
       " 3.3661485617505796e-33,\n",
       " 0.12493184208869934,\n",
       " 0.01934972032904625,\n",
       " -0.05822571739554405,\n",
       " -0.03598826378583908,\n",
       " -0.05074676498770714,\n",
       " -0.04566238448023796,\n",
       " -0.08260336518287659,\n",
       " 0.1481948047876358,\n",
       " -0.08842118829488754,\n",
       " 0.06027443706989288,\n",
       " 0.05103015899658203,\n",
       " 0.01030314713716507,\n",
       " 0.14121422171592712,\n",
       " 0.03081384487450123,\n",
       " 0.061033159494400024,\n",
       " -0.052851270884275436,\n",
       " 0.1366489678621292,\n",
       " 0.00918989721685648,\n",
       " -0.01732518896460533,\n",
       " -0.012848555110394955,\n",
       " -0.007995282299816608,\n",
       " -0.0509800985455513,\n",
       " -0.05235064774751663,\n",
       " 0.007593012880533934,\n",
       " -0.015166307799518108,\n",
       " 0.01696030981838703,\n",
       " 0.021270520985126495,\n",
       " 0.020558107644319534,\n",
       " -0.12002813816070557,\n",
       " 0.014461833983659744,\n",
       " 0.02675991877913475,\n",
       " 0.025330696254968643,\n",
       " -0.0427546352148056,\n",
       " 0.006768387276679277,\n",
       " -0.01445858459919691,\n",
       " 0.04526195675134659,\n",
       " -0.09147648513317108,\n",
       " -0.019439145922660828,\n",
       " -0.017833467572927475,\n",
       " -0.05491018295288086,\n",
       " -0.052641112357378006,\n",
       " -0.010459048673510551,\n",
       " -0.052016086876392365,\n",
       " 0.020891955122351646,\n",
       " -0.07997036725282669,\n",
       " -0.012111340649425983,\n",
       " -0.05773142725229263,\n",
       " 0.023178234696388245,\n",
       " -0.008031732402741909,\n",
       " -0.02598930336534977,\n",
       " -0.07995671033859253,\n",
       " -0.020728832110762596,\n",
       " 0.048817697912454605,\n",
       " -0.020389137789607048,\n",
       " -0.04917657747864723,\n",
       " 0.014159622602164745,\n",
       " -0.06362202018499374,\n",
       " -0.007807393092662096,\n",
       " 0.01643155701458454,\n",
       " -0.0256824791431427,\n",
       " 0.013381040655076504,\n",
       " 0.026248741894960403,\n",
       " 0.009978413581848145,\n",
       " 0.06322886794805527,\n",
       " 0.002672201255336404,\n",
       " -0.006582767236977816,\n",
       " 0.01663188263773918,\n",
       " 0.03236646577715874,\n",
       " 0.03794245794415474,\n",
       " -0.036376070231199265,\n",
       " -0.006910930387675762,\n",
       " 0.0001596928050275892,\n",
       " -0.0016335808904841542,\n",
       " -0.02727821283042431,\n",
       " -0.02803807333111763,\n",
       " 0.049681417644023895,\n",
       " -0.028867173939943314,\n",
       " -0.0024180689360946417,\n",
       " 0.014774908311665058,\n",
       " 0.009764534421265125,\n",
       " 0.005797638092190027,\n",
       " 0.013486160896718502,\n",
       " 0.0055678957141935825,\n",
       " 0.03722710534930229,\n",
       " 0.007232527248561382,\n",
       " 0.04015626385807991,\n",
       " 0.08150326460599899,\n",
       " 0.07199167460203171,\n",
       " -0.013056126423180103,\n",
       " -0.0428820475935936,\n",
       " -0.01101123820990324,\n",
       " 0.004897820297628641,\n",
       " -0.009229730814695358,\n",
       " 0.035191506147384644,\n",
       " -0.05103502422571182,\n",
       " -1.571437557856825e-08,\n",
       " -0.08862441033124924,\n",
       " 0.02390925958752632,\n",
       " -0.01623876392841339,\n",
       " 0.031700510531663895,\n",
       " 0.027284247800707817,\n",
       " 0.05246882885694504,\n",
       " -0.047070957720279694,\n",
       " -0.058847445994615555,\n",
       " -0.06320822983980179,\n",
       " 0.04088849574327469,\n",
       " 0.04982800409197807,\n",
       " 0.10655171424150467,\n",
       " -0.07450230419635773,\n",
       " -0.012495421804487705,\n",
       " 0.01837071217596531,\n",
       " 0.03947412595152855,\n",
       " -0.024797886610031128,\n",
       " 0.014516262337565422,\n",
       " -0.03706921637058258,\n",
       " 0.02001572772860527,\n",
       " -4.85817035951186e-05,\n",
       " 0.00986657664179802,\n",
       " 0.024838753044605255,\n",
       " -0.05245814099907875,\n",
       " 0.029314178973436356,\n",
       " -0.08719190955162048,\n",
       " -0.01449968758970499,\n",
       " 0.026019077748060226,\n",
       " -0.01874636672437191,\n",
       " -0.07620512694120407,\n",
       " 0.03504333272576332,\n",
       " 0.10363949835300446,\n",
       " -0.028050510212779045,\n",
       " 0.012718182988464832,\n",
       " -0.07632549107074738,\n",
       " -0.01865232177078724,\n",
       " 0.02497672848403454,\n",
       " 0.0814453512430191,\n",
       " 0.06875883787870407,\n",
       " -0.0640566498041153,\n",
       " -0.08389385789632797,\n",
       " 0.06136231869459152,\n",
       " -0.033545564860105515,\n",
       " -0.10615336894989014,\n",
       " -0.040080588310956955,\n",
       " 0.032530225813388824,\n",
       " 0.07662483304738998,\n",
       " -0.0730162113904953,\n",
       " 0.00033755265758372843,\n",
       " -0.040871646255254745,\n",
       " -0.0757884755730629,\n",
       " 0.027527665719389915,\n",
       " 0.07462543249130249,\n",
       " 0.01771726831793785,\n",
       " 0.09121846407651901,\n",
       " 0.11022016406059265,\n",
       " 0.0005697731394320726,\n",
       " 0.05146336182951927,\n",
       " -0.014551310800015926,\n",
       " 0.03323203697800636,\n",
       " 0.023792240768671036,\n",
       " -0.02288980595767498,\n",
       " 0.038937538862228394,\n",
       " 0.030206844210624695]"
      ]
     },
     "execution_count": 19,
     "metadata": {},
     "output_type": "execute_result"
    }
   ],
   "source": [
    "query_result\n",
    "#len(query_result)"
   ]
  },
  {
   "cell_type": "code",
   "execution_count": 24,
   "id": "ea53daac",
   "metadata": {},
   "outputs": [
    {
     "name": "stdout",
     "output_type": "stream",
     "text": [
      "Collecting dotenv\n",
      "  Downloading dotenv-0.9.9-py2.py3-none-any.whl.metadata (279 bytes)\n",
      "Collecting python-dotenv (from dotenv)\n",
      "  Using cached python_dotenv-1.1.1-py3-none-any.whl.metadata (24 kB)\n",
      "Downloading dotenv-0.9.9-py2.py3-none-any.whl (1.9 kB)\n",
      "Using cached python_dotenv-1.1.1-py3-none-any.whl (20 kB)\n",
      "Installing collected packages: python-dotenv, dotenv\n",
      "\n",
      "   ---------------------------------------- 2/2 [dotenv]\n",
      "\n",
      "Successfully installed dotenv-0.9.9 python-dotenv-1.1.1\n",
      "Note: you may need to restart the kernel to use updated packages.\n"
     ]
    }
   ],
   "source": [
    "pip install dotenv"
   ]
  },
  {
   "cell_type": "code",
   "execution_count": 20,
   "id": "c9c634c3",
   "metadata": {},
   "outputs": [
    {
     "data": {
      "text/plain": [
       "True"
      ]
     },
     "execution_count": 20,
     "metadata": {},
     "output_type": "execute_result"
    }
   ],
   "source": [
    "from dotenv import load_dotenv\n",
    "load_dotenv()"
   ]
  },
  {
   "cell_type": "code",
   "execution_count": 29,
   "id": "2ba8ee07",
   "metadata": {},
   "outputs": [
    {
     "name": "stdout",
     "output_type": "stream",
     "text": [
      "Collecting pinecone\n",
      "  Using cached pinecone-7.3.0-py3-none-any.whl.metadata (9.5 kB)\n",
      "Requirement already satisfied: certifi>=2019.11.17 in c:\\users\\saad\\miniconda3\\envs\\medibot310\\lib\\site-packages (from pinecone) (2025.7.9)\n",
      "Collecting pinecone-plugin-assistant<2.0.0,>=1.6.0 (from pinecone)\n",
      "  Using cached pinecone_plugin_assistant-1.7.0-py3-none-any.whl.metadata (28 kB)\n",
      "Collecting pinecone-plugin-interface<0.0.8,>=0.0.7 (from pinecone)\n",
      "  Using cached pinecone_plugin_interface-0.0.7-py3-none-any.whl.metadata (1.2 kB)\n",
      "Requirement already satisfied: python-dateutil>=2.5.3 in c:\\users\\saad\\miniconda3\\envs\\medibot310\\lib\\site-packages (from pinecone) (2.9.0.post0)\n",
      "Requirement already satisfied: typing-extensions>=3.7.4 in c:\\users\\saad\\miniconda3\\envs\\medibot310\\lib\\site-packages (from pinecone) (4.14.1)\n",
      "Requirement already satisfied: urllib3>=1.26.0 in c:\\users\\saad\\miniconda3\\envs\\medibot310\\lib\\site-packages (from pinecone) (2.5.0)\n",
      "Collecting packaging<25.0,>=24.2 (from pinecone-plugin-assistant<2.0.0,>=1.6.0->pinecone)\n",
      "  Using cached packaging-24.2-py3-none-any.whl.metadata (3.2 kB)\n",
      "Requirement already satisfied: requests<3.0.0,>=2.32.3 in c:\\users\\saad\\miniconda3\\envs\\medibot310\\lib\\site-packages (from pinecone-plugin-assistant<2.0.0,>=1.6.0->pinecone) (2.32.4)\n",
      "Requirement already satisfied: charset_normalizer<4,>=2 in c:\\users\\saad\\miniconda3\\envs\\medibot310\\lib\\site-packages (from requests<3.0.0,>=2.32.3->pinecone-plugin-assistant<2.0.0,>=1.6.0->pinecone) (3.4.2)\n",
      "Requirement already satisfied: idna<4,>=2.5 in c:\\users\\saad\\miniconda3\\envs\\medibot310\\lib\\site-packages (from requests<3.0.0,>=2.32.3->pinecone-plugin-assistant<2.0.0,>=1.6.0->pinecone) (3.10)\n",
      "Requirement already satisfied: six>=1.5 in c:\\users\\saad\\miniconda3\\envs\\medibot310\\lib\\site-packages (from python-dateutil>=2.5.3->pinecone) (1.17.0)\n",
      "Using cached pinecone-7.3.0-py3-none-any.whl (587 kB)\n",
      "Using cached pinecone_plugin_assistant-1.7.0-py3-none-any.whl (239 kB)\n",
      "Using cached packaging-24.2-py3-none-any.whl (65 kB)\n",
      "Using cached pinecone_plugin_interface-0.0.7-py3-none-any.whl (6.2 kB)\n",
      "Installing collected packages: pinecone-plugin-interface, packaging, pinecone-plugin-assistant, pinecone\n",
      "\n",
      "  Attempting uninstall: packaging\n",
      "\n",
      "    Found existing installation: packaging 23.2\n",
      "\n",
      "    Uninstalling packaging-23.2:\n",
      "\n",
      "      Successfully uninstalled packaging-23.2\n",
      "\n",
      "   ---------- ----------------------------- 1/4 [packaging]\n",
      "   -------------------- ------------------- 2/4 [pinecone-plugin-assistant]\n",
      "   -------------------- ------------------- 2/4 [pinecone-plugin-assistant]\n",
      "   -------------------- ------------------- 2/4 [pinecone-plugin-assistant]\n",
      "   -------------------- ------------------- 2/4 [pinecone-plugin-assistant]\n",
      "   ------------------------------ --------- 3/4 [pinecone]\n",
      "   ------------------------------ --------- 3/4 [pinecone]\n",
      "   ------------------------------ --------- 3/4 [pinecone]\n",
      "   ------------------------------ --------- 3/4 [pinecone]\n",
      "   ------------------------------ --------- 3/4 [pinecone]\n",
      "   ------------------------------ --------- 3/4 [pinecone]\n",
      "   ------------------------------ --------- 3/4 [pinecone]\n",
      "   ------------------------------ --------- 3/4 [pinecone]\n",
      "   ------------------------------ --------- 3/4 [pinecone]\n",
      "   ------------------------------ --------- 3/4 [pinecone]\n",
      "   ------------------------------ --------- 3/4 [pinecone]\n",
      "   ------------------------------ --------- 3/4 [pinecone]\n",
      "   ------------------------------ --------- 3/4 [pinecone]\n",
      "   ------------------------------ --------- 3/4 [pinecone]\n",
      "   ------------------------------ --------- 3/4 [pinecone]\n",
      "   ------------------------------ --------- 3/4 [pinecone]\n",
      "   ---------------------------------------- 4/4 [pinecone]\n",
      "\n",
      "Successfully installed packaging-24.2 pinecone-7.3.0 pinecone-plugin-assistant-1.7.0 pinecone-plugin-interface-0.0.7\n",
      "Note: you may need to restart the kernel to use updated packages.\n"
     ]
    },
    {
     "name": "stderr",
     "output_type": "stream",
     "text": [
      "ERROR: pip's dependency resolver does not currently take into account all the packages that are installed. This behaviour is the source of the following dependency conflicts.\n",
      "langchain-core 0.1.53 requires packaging<24.0,>=23.2, but you have packaging 24.2 which is incompatible.\n"
     ]
    }
   ],
   "source": [
    "#pip install pinecone"
   ]
  },
  {
   "cell_type": "code",
   "execution_count": 31,
   "id": "817a2e9c",
   "metadata": {},
   "outputs": [
    {
     "name": "stdout",
     "output_type": "stream",
     "text": [
      "Collecting google-api-core\n",
      "  Using cached google_api_core-2.25.1-py3-none-any.whl.metadata (3.0 kB)\n",
      "Collecting google-auth\n",
      "  Using cached google_auth-2.40.3-py2.py3-none-any.whl.metadata (6.2 kB)\n",
      "Collecting googleapis-common-protos<2.0.0,>=1.56.2 (from google-api-core)\n",
      "  Using cached googleapis_common_protos-1.70.0-py3-none-any.whl.metadata (9.3 kB)\n",
      "Collecting protobuf!=3.20.0,!=3.20.1,!=4.21.0,!=4.21.1,!=4.21.2,!=4.21.3,!=4.21.4,!=4.21.5,<7.0.0,>=3.19.5 (from google-api-core)\n",
      "  Using cached protobuf-6.31.1-cp310-abi3-win_amd64.whl.metadata (593 bytes)\n",
      "Collecting proto-plus<2.0.0,>=1.22.3 (from google-api-core)\n",
      "  Using cached proto_plus-1.26.1-py3-none-any.whl.metadata (2.2 kB)\n",
      "Requirement already satisfied: requests<3.0.0,>=2.18.0 in c:\\users\\saad\\miniconda3\\envs\\medibot310\\lib\\site-packages (from google-api-core) (2.32.4)\n",
      "Collecting cachetools<6.0,>=2.0.0 (from google-auth)\n",
      "  Using cached cachetools-5.5.2-py3-none-any.whl.metadata (5.4 kB)\n",
      "Collecting pyasn1-modules>=0.2.1 (from google-auth)\n",
      "  Using cached pyasn1_modules-0.4.2-py3-none-any.whl.metadata (3.5 kB)\n",
      "Collecting rsa<5,>=3.1.4 (from google-auth)\n",
      "  Using cached rsa-4.9.1-py3-none-any.whl.metadata (5.6 kB)\n",
      "Requirement already satisfied: charset_normalizer<4,>=2 in c:\\users\\saad\\miniconda3\\envs\\medibot310\\lib\\site-packages (from requests<3.0.0,>=2.18.0->google-api-core) (3.4.2)\n",
      "Requirement already satisfied: idna<4,>=2.5 in c:\\users\\saad\\miniconda3\\envs\\medibot310\\lib\\site-packages (from requests<3.0.0,>=2.18.0->google-api-core) (3.10)\n",
      "Requirement already satisfied: urllib3<3,>=1.21.1 in c:\\users\\saad\\miniconda3\\envs\\medibot310\\lib\\site-packages (from requests<3.0.0,>=2.18.0->google-api-core) (2.5.0)\n",
      "Requirement already satisfied: certifi>=2017.4.17 in c:\\users\\saad\\miniconda3\\envs\\medibot310\\lib\\site-packages (from requests<3.0.0,>=2.18.0->google-api-core) (2025.7.9)\n",
      "Collecting pyasn1>=0.1.3 (from rsa<5,>=3.1.4->google-auth)\n",
      "  Using cached pyasn1-0.6.1-py3-none-any.whl.metadata (8.4 kB)\n",
      "Using cached google_api_core-2.25.1-py3-none-any.whl (160 kB)\n",
      "Using cached google_auth-2.40.3-py2.py3-none-any.whl (216 kB)\n",
      "Using cached cachetools-5.5.2-py3-none-any.whl (10 kB)\n",
      "Using cached googleapis_common_protos-1.70.0-py3-none-any.whl (294 kB)\n",
      "Using cached proto_plus-1.26.1-py3-none-any.whl (50 kB)\n",
      "Using cached protobuf-6.31.1-cp310-abi3-win_amd64.whl (435 kB)\n",
      "Using cached rsa-4.9.1-py3-none-any.whl (34 kB)\n",
      "Using cached pyasn1-0.6.1-py3-none-any.whl (83 kB)\n",
      "Using cached pyasn1_modules-0.4.2-py3-none-any.whl (181 kB)\n",
      "Installing collected packages: pyasn1, protobuf, cachetools, rsa, pyasn1-modules, proto-plus, googleapis-common-protos, google-auth, google-api-core\n",
      "\n",
      "   ---------------------------------------- 0/9 [pyasn1]\n",
      "   ---- ----------------------------------- 1/9 [protobuf]\n",
      "   ---- ----------------------------------- 1/9 [protobuf]\n",
      "   ---- ----------------------------------- 1/9 [protobuf]\n",
      "   ----------------- ---------------------- 4/9 [pyasn1-modules]\n",
      "   ----------------- ---------------------- 4/9 [pyasn1-modules]\n",
      "   ----------------- ---------------------- 4/9 [pyasn1-modules]\n",
      "   ----------------- ---------------------- 4/9 [pyasn1-modules]\n",
      "   ----------------- ---------------------- 4/9 [pyasn1-modules]\n",
      "   ----------------- ---------------------- 4/9 [pyasn1-modules]\n",
      "   ----------------- ---------------------- 4/9 [pyasn1-modules]\n",
      "   ----------------- ---------------------- 4/9 [pyasn1-modules]\n",
      "   ----------------- ---------------------- 4/9 [pyasn1-modules]\n",
      "   ----------------- ---------------------- 4/9 [pyasn1-modules]\n",
      "   ---------------------- ----------------- 5/9 [proto-plus]\n",
      "   -------------------------- ------------- 6/9 [googleapis-common-protos]\n",
      "   -------------------------- ------------- 6/9 [googleapis-common-protos]\n",
      "   -------------------------- ------------- 6/9 [googleapis-common-protos]\n",
      "   -------------------------- ------------- 6/9 [googleapis-common-protos]\n",
      "   -------------------------- ------------- 6/9 [googleapis-common-protos]\n",
      "   -------------------------- ------------- 6/9 [googleapis-common-protos]\n",
      "   -------------------------- ------------- 6/9 [googleapis-common-protos]\n",
      "   ------------------------------- -------- 7/9 [google-auth]\n",
      "   ------------------------------- -------- 7/9 [google-auth]\n",
      "   ------------------------------- -------- 7/9 [google-auth]\n",
      "   ------------------------------- -------- 7/9 [google-auth]\n",
      "   ----------------------------------- ---- 8/9 [google-api-core]\n",
      "   ----------------------------------- ---- 8/9 [google-api-core]\n",
      "   ----------------------------------- ---- 8/9 [google-api-core]\n",
      "   ---------------------------------------- 9/9 [google-api-core]\n",
      "\n",
      "Successfully installed cachetools-5.5.2 google-api-core-2.25.1 google-auth-2.40.3 googleapis-common-protos-1.70.0 proto-plus-1.26.1 protobuf-6.31.1 pyasn1-0.6.1 pyasn1-modules-0.4.2 rsa-4.9.1\n"
     ]
    }
   ],
   "source": [
    "#!pip install google-api-core google-auth\n"
   ]
  },
  {
   "cell_type": "code",
   "execution_count": 32,
   "id": "04e4e1e3",
   "metadata": {},
   "outputs": [
    {
     "name": "stdout",
     "output_type": "stream",
     "text": [
      "Collecting pinecone-client[grpc]\n",
      "  Using cached pinecone_client-6.0.0-py3-none-any.whl.metadata (3.4 kB)\n",
      "Requirement already satisfied: certifi>=2019.11.17 in c:\\users\\saad\\miniconda3\\envs\\medibot310\\lib\\site-packages (from pinecone-client[grpc]) (2025.7.9)\n",
      "Requirement already satisfied: pinecone-plugin-interface<0.0.8,>=0.0.7 in c:\\users\\saad\\miniconda3\\envs\\medibot310\\lib\\site-packages (from pinecone-client[grpc]) (0.0.7)\n",
      "Requirement already satisfied: python-dateutil>=2.5.3 in c:\\users\\saad\\miniconda3\\envs\\medibot310\\lib\\site-packages (from pinecone-client[grpc]) (2.9.0.post0)\n",
      "Requirement already satisfied: typing-extensions>=3.7.4 in c:\\users\\saad\\miniconda3\\envs\\medibot310\\lib\\site-packages (from pinecone-client[grpc]) (4.14.1)\n",
      "Requirement already satisfied: urllib3>=1.26.0 in c:\\users\\saad\\miniconda3\\envs\\medibot310\\lib\\site-packages (from pinecone-client[grpc]) (2.5.0)\n",
      "Requirement already satisfied: googleapis-common-protos>=1.66.0 in c:\\users\\saad\\miniconda3\\envs\\medibot310\\lib\\site-packages (from pinecone-client[grpc]) (1.70.0)\n",
      "Collecting grpcio>=1.44.0 (from pinecone-client[grpc])\n",
      "  Using cached grpcio-1.73.1-cp310-cp310-win_amd64.whl.metadata (4.0 kB)\n",
      "Collecting lz4>=3.1.3 (from pinecone-client[grpc])\n",
      "  Using cached lz4-4.4.4-cp310-cp310-win_amd64.whl.metadata (3.9 kB)\n",
      "Collecting protobuf<6.0,>=5.29 (from pinecone-client[grpc])\n",
      "  Using cached protobuf-5.29.5-cp310-abi3-win_amd64.whl.metadata (592 bytes)\n",
      "Collecting protoc-gen-openapiv2<0.0.2,>=0.0.1 (from pinecone-client[grpc])\n",
      "  Using cached protoc_gen_openapiv2-0.0.1-py3-none-any.whl.metadata (1.5 kB)\n",
      "Requirement already satisfied: six>=1.5 in c:\\users\\saad\\miniconda3\\envs\\medibot310\\lib\\site-packages (from python-dateutil>=2.5.3->pinecone-client[grpc]) (1.17.0)\n",
      "Using cached pinecone_client-6.0.0-py3-none-any.whl (6.7 kB)\n",
      "Using cached protobuf-5.29.5-cp310-abi3-win_amd64.whl (434 kB)\n",
      "Using cached protoc_gen_openapiv2-0.0.1-py3-none-any.whl (7.9 kB)\n",
      "Downloading grpcio-1.73.1-cp310-cp310-win_amd64.whl (4.3 MB)\n",
      "   ---------------------------------------- 0.0/4.3 MB ? eta -:--:--\n",
      "   ---------------------------------------- 0.0/4.3 MB ? eta -:--:--\n",
      "   ---------------------------------------- 0.0/4.3 MB ? eta -:--:--\n",
      "   -- ------------------------------------- 0.3/4.3 MB ? eta -:--:--\n",
      "   -- ------------------------------------- 0.3/4.3 MB ? eta -:--:--\n",
      "   -- ------------------------------------- 0.3/4.3 MB ? eta -:--:--\n",
      "   ---- ----------------------------------- 0.5/4.3 MB 465.6 kB/s eta 0:00:09\n",
      "   ------- -------------------------------- 0.8/4.3 MB 621.2 kB/s eta 0:00:06\n",
      "   ------- -------------------------------- 0.8/4.3 MB 621.2 kB/s eta 0:00:06\n",
      "   --------- ------------------------------ 1.0/4.3 MB 708.5 kB/s eta 0:00:05\n",
      "   ------------ --------------------------- 1.3/4.3 MB 762.6 kB/s eta 0:00:04\n",
      "   -------------- ------------------------- 1.6/4.3 MB 822.3 kB/s eta 0:00:04\n",
      "   ---------------- ----------------------- 1.8/4.3 MB 860.0 kB/s eta 0:00:03\n",
      "   ------------------- -------------------- 2.1/4.3 MB 889.5 kB/s eta 0:00:03\n",
      "   --------------------- ------------------ 2.4/4.3 MB 906.7 kB/s eta 0:00:03\n",
      "   ------------------------ --------------- 2.6/4.3 MB 926.3 kB/s eta 0:00:02\n",
      "   -------------------------- ------------- 2.9/4.3 MB 947.7 kB/s eta 0:00:02\n",
      "   ---------------------------- ----------- 3.1/4.3 MB 956.1 kB/s eta 0:00:02\n",
      "   ---------------------------- ----------- 3.1/4.3 MB 956.1 kB/s eta 0:00:02\n",
      "   ------------------------------- -------- 3.4/4.3 MB 967.9 kB/s eta 0:00:01\n",
      "   --------------------------------- ------ 3.7/4.3 MB 982.4 kB/s eta 0:00:01\n",
      "   ------------------------------------ --- 3.9/4.3 MB 990.8 kB/s eta 0:00:01\n",
      "   -------------------------------------- - 4.2/4.3 MB 1.0 MB/s eta 0:00:01\n",
      "   ---------------------------------------- 4.3/4.3 MB 981.0 kB/s eta 0:00:00\n",
      "Downloading lz4-4.4.4-cp310-cp310-win_amd64.whl (99 kB)\n",
      "Installing collected packages: protobuf, lz4, grpcio, pinecone-client, protoc-gen-openapiv2\n",
      "\n",
      "  Attempting uninstall: protobuf\n",
      "\n",
      "    Found existing installation: protobuf 6.31.1\n",
      "\n",
      "    Uninstalling protobuf-6.31.1:\n",
      "\n",
      "      Successfully uninstalled protobuf-6.31.1\n",
      "\n",
      "   ---------------------------------------- 0/5 [protobuf]\n",
      "   ---------------------------------------- 0/5 [protobuf]\n",
      "   ---------------------------------------- 0/5 [protobuf]\n",
      "   ---------------- ----------------------- 2/5 [grpcio]\n",
      "   ---------------- ----------------------- 2/5 [grpcio]\n",
      "   ---------------- ----------------------- 2/5 [grpcio]\n",
      "   ---------------- ----------------------- 2/5 [grpcio]\n",
      "   ------------------------ --------------- 3/5 [pinecone-client]\n",
      "   ---------------------------------------- 5/5 [protoc-gen-openapiv2]\n",
      "\n",
      "Successfully installed grpcio-1.73.1 lz4-4.4.4 pinecone-client-6.0.0 protobuf-5.29.5 protoc-gen-openapiv2-0.0.1\n"
     ]
    }
   ],
   "source": [
    "#!pip install \"pinecone-client[grpc]\"\n"
   ]
  },
  {
   "cell_type": "code",
   "execution_count": 23,
   "id": "526e7a60",
   "metadata": {},
   "outputs": [],
   "source": [
    "from pinecone.grpc import PineconeGRPC as Pinecone\n",
    "from pinecone import ServerlessSpec\n",
    "import os\n",
    " "
   ]
  },
  {
   "cell_type": "code",
   "execution_count": 24,
   "id": "53a68f66",
   "metadata": {},
   "outputs": [
    {
     "data": {
      "text/plain": [
       "{\n",
       "    \"name\": \"medical-chatbot\",\n",
       "    \"metric\": \"cosine\",\n",
       "    \"host\": \"medical-chatbot-tdfhpd0.svc.aped-4627-b74a.pinecone.io\",\n",
       "    \"spec\": {\n",
       "        \"serverless\": {\n",
       "            \"cloud\": \"aws\",\n",
       "            \"region\": \"us-east-1\"\n",
       "        }\n",
       "    },\n",
       "    \"status\": {\n",
       "        \"ready\": true,\n",
       "        \"state\": \"Ready\"\n",
       "    },\n",
       "    \"vector_type\": \"dense\",\n",
       "    \"dimension\": 384,\n",
       "    \"deletion_protection\": \"disabled\",\n",
       "    \"tags\": null\n",
       "}"
      ]
     },
     "execution_count": 24,
     "metadata": {},
     "output_type": "execute_result"
    }
   ],
   "source": [
    "pc  = Pinecone(api_key=Pinecone_API_key)\n",
    "index_name = \"medical-chatbot\"\n",
    "# Create a new index\n",
    "pc.create_index(\n",
    "    name=index_name,\n",
    "    dimension=384,  # Dimension of the embeddings\n",
    "    metric=\"cosine\",  # Similarity metric\n",
    "    spec=ServerlessSpec(\n",
    "        cloud=\"aws\",\n",
    "        region=\"us-east-1\",  # Change to your preferred region\n",
    "    )\n",
    "    \n",
    ")\n"
   ]
  },
  {
   "cell_type": "code",
   "execution_count": 26,
   "id": "ae2e469c",
   "metadata": {},
   "outputs": [],
   "source": [
    "import os\n",
    "os.environ[\"PINECONE_API_KEY\"] = Pinecone_API_key\n",
    "os.environ[\"COHERE_API_KEY\"] = Cohere_API_key"
   ]
  },
  {
   "cell_type": "code",
   "execution_count": 27,
   "id": "9941268e",
   "metadata": {},
   "outputs": [],
   "source": [
    "from pinecone import Pinecone\n"
   ]
  },
  {
   "cell_type": "code",
   "execution_count": 28,
   "id": "7e6077d8",
   "metadata": {},
   "outputs": [
    {
     "name": "stdout",
     "output_type": "stream",
     "text": [
      "✅ `secret_from_env` is now available!\n"
     ]
    }
   ],
   "source": [
    "from langchain_core.utils import secret_from_env\n",
    "print(\"✅ `secret_from_env` is now available!\")\n"
   ]
  },
  {
   "cell_type": "code",
   "execution_count": 29,
   "id": "641f0cc6",
   "metadata": {},
   "outputs": [
    {
     "name": "stdout",
     "output_type": "stream",
     "text": [
      "✅ All imports working!\n"
     ]
    }
   ],
   "source": [
    "from langchain_pinecone import PineconeVectorStore\n",
    "from pinecone import Pinecone\n",
    "\n",
    "print(\"✅ All imports working!\")\n"
   ]
  },
  {
   "cell_type": "code",
   "execution_count": 30,
   "id": "c3bc1dc4",
   "metadata": {},
   "outputs": [],
   "source": [
    "\n",
    "\n",
    "docsearch = PineconeVectorStore.from_documents(\n",
    "    documents=text_chunks,\n",
    "    embedding=embeddings,\n",
    "    index_name=index_name,\n",
    "   # namespace=\"medical-chatbot\"\n",
    ")"
   ]
  },
  {
   "cell_type": "code",
   "execution_count": 31,
   "id": "10f3cc50",
   "metadata": {},
   "outputs": [],
   "source": [
    "#Load existing index\n",
    "from langchain_pinecone import PineconeVectorStore\n",
    "\n",
    "docsearch = PineconeVectorStore.from_existing_index(\n",
    "    embedding=embeddings,\n",
    "    index_name=index_name)"
   ]
  },
  {
   "cell_type": "code",
   "execution_count": 32,
   "id": "7c9ca725",
   "metadata": {},
   "outputs": [
    {
     "data": {
      "text/plain": [
       "<langchain_pinecone.vectorstores.PineconeVectorStore at 0x1eff3669540>"
      ]
     },
     "execution_count": 32,
     "metadata": {},
     "output_type": "execute_result"
    }
   ],
   "source": [
    "docsearch"
   ]
  },
  {
   "cell_type": "code",
   "execution_count": 33,
   "id": "ecee01ff",
   "metadata": {},
   "outputs": [],
   "source": [
    "#Retrieval Chain Setup\n",
    "retriever = docsearch.as_retriever(search_type=\"similarity\", search_kwargs={\"k\": 3})"
   ]
  },
  {
   "cell_type": "code",
   "execution_count": 34,
   "id": "4336b032",
   "metadata": {},
   "outputs": [],
   "source": [
    "retrieved_documents = retriever.invoke(\"What is the treatment for diabetes?\")"
   ]
  },
  {
   "cell_type": "code",
   "execution_count": 35,
   "id": "ef8a8f82",
   "metadata": {},
   "outputs": [
    {
     "data": {
      "text/plain": [
       "[Document(id='4f399537-9df2-4936-831b-914ab062155a', metadata={'creationdate': '2004-12-18T17:00:02-05:00', 'creator': 'PyPDF', 'moddate': '2004-12-18T16:15:31-06:00', 'page': 274.0, 'page_label': '275', 'producer': 'PDFlib+PDI 5.0.0 (SunOS)', 'source': 'Data\\\\Gale Encyclopedia of Medicine Vol. 1 (A-B).pdf', 'total_pages': 637.0}, page_content='with a physician or pharmacist before combining tri-\\ncyclic antidepressants with any other prescription or non-\\nprescription (over-the-counter) medicine.\\nNancy Ross-Flanigan\\nAntidiabetic drugs\\nDefinition\\nAntidiabetic drugs are medicines that help control\\nblood sugar levels in people with diabetes mellitus\\n(sugar diabetes).\\nPurpose\\nDiabetes may be divided into type I and type II, for-\\nmerly termed juvenile onset or insulin-dependent, and\\nGALE ENCYCLOPEDIA OF MEDICINE 2 261\\nAntidiabetic drugs'),\n",
       " Document(id='fadeeea0-a6f0-470b-a5b5-5fa1b207b5fc', metadata={'creationdate': '2004-12-18T17:00:02-05:00', 'creator': 'PyPDF', 'moddate': '2004-12-18T16:15:31-06:00', 'page': 274.0, 'page_label': '275', 'producer': 'PDFlib+PDI 5.0.0 (SunOS)', 'source': 'Data\\\\Gale Encyclopedia of Medicine Vol. 1 (A-B).pdf', 'total_pages': 637.0}, page_content='Antidiabetic drugs\\nGEM - 0001 to 0432 - A  10/22/03 1:42 PM  Page 261'),\n",
       " Document(id='fc48970f-7092-4ba1-868c-55cc016f1dfa', metadata={'creationdate': '2004-12-18T17:00:02-05:00', 'creator': 'PyPDF', 'moddate': '2004-12-18T16:15:31-06:00', 'page': 543.0, 'page_label': '544', 'producer': 'PDFlib+PDI 5.0.0 (SunOS)', 'source': 'Data\\\\Gale Encyclopedia of Medicine Vol. 1 (A-B).pdf', 'total_pages': 637.0}, page_content='National Institute of Diabetes and Digestive and Kidney Dis-\\neases (NIDDK). Building 31, Room 9A04, 31 Center\\nDrive, MSC 2560, Bethesda, MD 208792-2560. (301)\\n496-3583. <http://www.niddk.nih.gov>.\\nNancy J. Nordenson\\nBlood thinners see Anticoagulant and\\nantiplatelet drugs\\nBlood transfusion see Transfusion\\nGALE ENCYCLOPEDIA OF MEDICINE 2530\\nBlood sugar tests\\nGEM -0433 to 0624 - B  10/22/03 6:08 PM  Page 530')]"
      ]
     },
     "execution_count": 35,
     "metadata": {},
     "output_type": "execute_result"
    }
   ],
   "source": [
    "retrieved_documents"
   ]
  },
  {
   "cell_type": "code",
   "execution_count": null,
   "id": "d15f0928",
   "metadata": {},
   "outputs": [],
   "source": []
  },
  {
   "cell_type": "code",
   "execution_count": 45,
   "id": "6d1faccb",
   "metadata": {},
   "outputs": [
    {
     "name": "stdout",
     "output_type": "stream",
     "text": [
      "Acne is a common skin condition that occurs when hair follicles become clogged with oil and dead skin cells. It often causes pimples, blackheads, whiteheads, cysts, and nodules, primarily on the face, forehead, chest, upper back, and shoulders. Acne can affect people of all ages, but it is most common among teenagers and young adults due to hormonal changes during puberty.\n",
      "\n",
      "### Key Factors Contributing to Acne:\n",
      "1. **Excess Oil Production**: Sebaceous glands produce an oily substance called sebum, which can clog pores.\n",
      "2. **Dead Skin Cells**: When dead skin cells accumulate, they can block pores and trap sebum.\n",
      "3. **Bacteria**: The bacterium *Propionibacterium acnes* (P. acnes) can multiply in clogged pores, causing inflammation.\n",
      "4. **Hormones**: Fluctuations in hormones, particularly androgens, can increase oil production and trigger acne.\n",
      "5. **Inflammation**: The body's immune response to clogged pores can lead to redness, swelling, and pain.\n",
      "\n",
      "### Types of Acne Lesions:\n",
      "- **Whiteheads**: Closed clogged pores.\n",
      "- **Blackheads**: Open clogged pores (dark appearance due to oxidation, not dirt).\n",
      "- **Papules**: Small, red, tender bumps.\n",
      "- **Pustules**: Pimples with pus at the tip.\n",
      "- **Nodules**: Large, painful, solid lumps beneath the skin.\n",
      "- **Cysts**: Painful, pus-filled lumps that can cause scarring.\n",
      "\n",
      "### Causes and Triggers:\n",
      "- **Hormonal Changes**: Puberty, menstruation, pregnancy, or polycystic ovary syndrome (PCOS).\n",
      "- **Genetics**: Family history of acne.\n",
      "- **Diet**: High-glycemic foods, dairy, and greasy foods may worsen acne.\n",
      "- **Stress**: Can exacerbate acne.\n",
      "- **Certain Medications**: Steroids, lithium, or some contraceptives.\n",
      "- **Skincare Products**: Comedogenic (pore-clogging) cosmetics or skincare.\n",
      "- **Environment**: Pollution, humidity, or friction from tight clothing.\n",
      "\n",
      "### Treatment Options:\n",
      "1. **Topical Treatments**: Retinoids, benzoyl peroxide, salicylic acid, or antibiotics.\n",
      "2. **Oral Medications**: Antibiotics, hormonal therapies (e.g., birth control pills), or isotretinoin (Accutane) for severe cases.\n",
      "3. **Procedures**: Chemical peels, microdermabrasion, laser therapy, or drainage and extraction.\n",
      "4. **Lifestyle Changes**: Gentle skincare, avoiding picking or popping pimples, and using non-comedogenic products.\n",
      "\n",
      "### Prevention Tips:\n",
      "- Cleanse skin gently twice daily.\n",
      "- Avoid harsh scrubbing or over-washing.\n",
      "- Use oil-free, non-comedogenic products.\n",
      "- Avoid touching the face frequently.\n",
      "- Maintain a healthy diet and manage stress.\n",
      "\n",
      "Acne can be persistent and may lead to scarring or emotional distress if left untreated. Consulting a dermatologist is recommended for personalized treatment.\n"
     ]
    }
   ],
   "source": [
    "#test the retriever\n",
    "\n",
    "import cohere\n",
    "\n",
    "co = cohere.Client(Cohere_API_key)\n",
    "\n",
    "response = co.chat(message=\"What is acne?\")\n",
    "print(response.text)\n"
   ]
  },
  {
   "cell_type": "code",
   "execution_count": 46,
   "id": "852dbb30",
   "metadata": {},
   "outputs": [
    {
     "name": "stdout",
     "output_type": "stream",
     "text": [
      "A heart attack, also known as a myocardial infarction (MI), is a serious medical condition that occurs when the blood flow to a part of the heart is severely reduced or blocked, depriving the heart muscle of oxygen and nutrients. This is typically caused by a clot in one of the coronary arteries, the blood vessels that supply the heart muscle with blood.\n",
      "\n",
      "Here’s a breakdown of what happens during a heart attack:\n",
      "\n",
      "1. **Coronary Artery Blockage**: The most common cause is the buildup of fatty deposits (plaques) in the coronary arteries, a condition known as atherosclerosis. If a plaque ruptures, a blood clot can form, blocking the artery.\n",
      "\n",
      "2. **Reduced Blood Flow**: When an artery is blocked, the part of the heart muscle supplied by that artery begins to suffer from a lack of oxygen (ischemia).\n",
      "\n",
      "3. **Heart Muscle Damage**: If the blockage is not quickly resolved, the affected heart muscle cells can die, leading to permanent damage to the heart.\n",
      "\n",
      "4. **Symptoms**: Common symptoms of a heart attack include:\n",
      "   - Chest pain or discomfort (often described as a crushing, squeezing, or pressure sensation)\n",
      "   - Pain radiating to the jaw, neck, back, arm (especially the left arm), or stomach\n",
      "   - Shortness of breath\n",
      "   - Nausea or vomiting\n",
      "   - Lightheadedness or dizziness\n",
      "   - Cold sweat\n",
      "   - Fatigue\n",
      "\n",
      "However, symptoms can vary widely, and some people, especially women, older adults, and people with diabetes, may experience less typical symptoms or no symptoms at (a \"silent\" heart attack).\n",
      "\n",
      "5. **Diagnosis**: A heart attack is diagnosed through a combination of:\n",
      "   - **Medical history and physical exam**\n",
      "   - **Electrocardiogram (ECG/EKG)** to detect abnormal heart rhythms or damage\n",
      "   - **Blood tests** to measure levels of cardiac enzymes (e.g., troponin) that leak into the blood when the heart is damaged\n",
      "   - **Imaging tests** like echocardiography, coronary angiography, or cardiac MRI to assess heart function and artery blockages\n",
      "\n",
      "6. **Treatment**: Immediate treatment is crucial to restore blood flow and minimize heart damage. Common treatments include:\n",
      "   - **Medications**: Aspirin to prevent further clotting, nitroglycerin to relieve chest pain, thrombolytics to dissolve clots, and medications to stabilize the heart rhythm.\n",
      "   - **Angioplasty and Stenting**: A procedure where a catheter is inserted into the blocked artery, and a stent is placed to open the artery and restore blood flow.\n",
      "   - **Coronary Artery Bypass Surgery (CABG)**: In some cases, surgery may be needed to bypass the blocked artery using a blood vessel from another part of the body.\n",
      "\n",
      "7. **Prevention**: Reducing risk factors can help prevent heart attacks:\n",
      "   - **Healthy diet**: Low in saturated fats, cholesterol, and sodium.\n",
      "   - **Regular exercise**: Aim for at least 150 minutes of moderate aerobic activity or 75 minutes of vigorous activity per week.\n",
      "   - **Maintain a healthy weight**: Manage obesity through diet and exercise.\n",
      "   - **Control blood pressure and cholesterol**: Through lifestyle changes and medications if necessary.\n",
      "   - **Avoid smoking**: Smoking significantly increases the risk of heart disease.\n",
      "   - **Manage diabetes**: Keep blood sugar levels under control.\n",
      "\n",
      "Prompt recognition and treatment of a heart attack are critical to improving outcomes and reducing the risk of long-term heart damage or death. If you or someone else experiences symptoms of a heart attack, seek emergency medical attention immediately.\n"
     ]
    }
   ],
   "source": [
    "#test 2\n",
    "\n",
    "import cohere\n",
    "co = cohere.Client(Cohere_API_key)\n",
    "\n",
    "response = co.chat(message=\"What is heart attack ?\")\n",
    "print(response.text)"
   ]
  },
  {
   "cell_type": "code",
   "execution_count": null,
   "id": "3c6911cb",
   "metadata": {},
   "outputs": [],
   "source": [
    "import os\n",
    "os.environ[\"COHERE_API_KEY\"] = Cohere_API_key"
   ]
  },
  {
   "cell_type": "code",
   "execution_count": 61,
   "id": "2943c8a6",
   "metadata": {},
   "outputs": [],
   "source": [
    "from langchain_cohere import ChatCohere"
   ]
  },
  {
   "cell_type": "code",
   "execution_count": 62,
   "id": "ca2d94a2",
   "metadata": {},
   "outputs": [],
   "source": [
    "\n",
    "from langchain.chains import create_retrieval_chain"
   ]
  },
  {
   "cell_type": "code",
   "execution_count": 63,
   "id": "91ab7a03",
   "metadata": {},
   "outputs": [],
   "source": [
    "\n",
    "from langchain.chains.combine_documents import create_stuff_documents_chain\n",
    "from langchain_core.prompts import ChatPromptTemplate"
   ]
  },
  {
   "cell_type": "code",
   "execution_count": null,
   "id": "9c1c7a6b",
   "metadata": {},
   "outputs": [],
   "source": [
    "\n",
    "\n",
    "# --- LLM Setup ---\n",
    "llm = ChatCohere(\n",
    "    temperature=0.7,\n",
    "    max_tokens=1000,\n",
    "    cohere_api_key=Cohere_API_key  # Keep secure in production!\n",
    ")\n",
    "\n"
   ]
  },
  {
   "cell_type": "code",
   "execution_count": 68,
   "id": "7b785ecf",
   "metadata": {},
   "outputs": [],
   "source": [
    "# --- Prompt Template ---\n",
    "system_prompt = (\n",
    "    \"You are a highly knowledgeable assistant. \"\n",
    "    \"Use the following pieces of context to answer the question. \"\n",
    "    \"If you don't know the answer, just say that you don't know. \"\n",
    "    \"Use five sentences to answer the question.\\n\\n\"\n",
    "    \"{context}\"\n",
    ")\n",
    "\n",
    "prompt = ChatPromptTemplate.from_messages([\n",
    "    (\"system\", system_prompt),\n",
    "    (\"human\", \"{input}\"),\n",
    "])\n",
    "\n",
    "\n"
   ]
  },
  {
   "cell_type": "code",
   "execution_count": 69,
   "id": "c5084c9b",
   "metadata": {},
   "outputs": [],
   "source": [
    "# --- Chain Construction ---\n",
    "question_answer_chain = create_stuff_documents_chain(llm, prompt)\n",
    "rag_chain = create_retrieval_chain(retriever, question_answer_chain)\n",
    "\n"
   ]
  },
  {
   "cell_type": "code",
   "execution_count": 70,
   "id": "941a8a7e",
   "metadata": {},
   "outputs": [
    {
     "name": "stdout",
     "output_type": "stream",
     "text": [
      "The treatment for diabetes primarily involves the use of antidiabetic drugs, which are medicines designed to help control blood sugar levels in individuals with diabetes mellitus. These drugs are essential for managing both type I and type II diabetes, with type I often requiring insulin therapy due to its insulin-dependent nature. For type II diabetes, various medications may be prescribed to improve insulin sensitivity or reduce glucose production in the liver. Lifestyle changes, such as a healthy diet and regular exercise, are also crucial components of diabetes management. Additionally, patients should consult healthcare professionals to determine the most appropriate treatment plan tailored to their specific needs.\n"
     ]
    }
   ],
   "source": [
    "# --- Inference ---\n",
    "response = rag_chain.invoke({\"input\": \"What is the treatment for diabetes?\"})\n",
    "print(response[\"answer\"])"
   ]
  },
  {
   "cell_type": "code",
   "execution_count": 72,
   "id": "02ead722",
   "metadata": {},
   "outputs": [
    {
     "name": "stdout",
     "output_type": "stream",
     "text": [
      "Acromegaly and gigantism are related disorders caused by the abnormal release of growth hormone from the pituitary gland in the brain. When this excess hormone production occurs before the growth plates in bones close, typically during childhood or adolescence, the condition is called gigantism, leading to unusual height. If the abnormality occurs after bone growth stops, usually in adulthood, it is termed acromegaly, resulting in increased growth of bone and soft tissue. Both conditions cause a variety of disturbances throughout the body due to the excessive hormone levels. Acromegaly is relatively rare, affecting approximately 50 out of every one million people, and diagnosis is often delayed because symptoms develop gradually.\n"
     ]
    }
   ],
   "source": [
    "response = rag_chain.invoke({\"input\": \"What is Acromegaly and gigantism?\"})\n",
    "print(response[\"answer\"])"
   ]
  },
  {
   "cell_type": "code",
   "execution_count": 73,
   "id": "3372e386",
   "metadata": {},
   "outputs": [
    {
     "name": "stdout",
     "output_type": "stream",
     "text": [
      "The provided context does not specifically mention \"chest cancer,\" but it does discuss breast cancer staging and diagnostic procedures, which may involve the chest area. Breast cancer is a type of cancer that originates in the breast tissue, and its stages are categorized based on tumor size and spread to lymph nodes or nearby tissues. Stage 1 breast cancer is small and localized, while Stage 2 involves larger tumors with lymph node involvement. Stages 3A and 3B indicate more advanced disease, with spread to lymph nodes or nearby tissues. Diagnostic procedures for abnormalities in the chest area, such as those detected on a chest x-ray or CT scan, may include biopsy options like surgery or percutaneous biopsy guided by computed tomography. However, the context does not provide specific information about \"chest cancer\" as a distinct condition.\n"
     ]
    }
   ],
   "source": [
    "response = rag_chain.invoke({\"input\": \"explain about chest cancer?\"})\n",
    "print(response[\"answer\"])"
   ]
  },
  {
   "cell_type": "code",
   "execution_count": null,
   "id": "b8a7b417",
   "metadata": {},
   "outputs": [],
   "source": []
  }
 ],
 "metadata": {
  "kernelspec": {
   "display_name": "medibot",
   "language": "python",
   "name": "python3"
  },
  "language_info": {
   "codemirror_mode": {
    "name": "ipython",
    "version": 3
   },
   "file_extension": ".py",
   "mimetype": "text/x-python",
   "name": "python",
   "nbconvert_exporter": "python",
   "pygments_lexer": "ipython3",
   "version": "3.10.18"
  }
 },
 "nbformat": 4,
 "nbformat_minor": 5
}
